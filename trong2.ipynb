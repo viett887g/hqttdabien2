{
  "nbformat": 4,
  "nbformat_minor": 0,
  "metadata": {
    "colab": {
      "provenance": [],
      "collapsed_sections": [],
      "authorship_tag": "ABX9TyMqqQfymPYl/DPDgbYYD6h5",
      "include_colab_link": true
    },
    "kernelspec": {
      "name": "python3",
      "display_name": "Python 3"
    },
    "language_info": {
      "name": "python"
    }
  },
  "cells": [
    {
      "cell_type": "markdown",
      "metadata": {
        "id": "view-in-github",
        "colab_type": "text"
      },
      "source": [
        "<a href=\"https://colab.research.google.com/github/viett887g/hqttdabien2/blob/main/trong2.ipynb\" target=\"_parent\"><img src=\"https://colab.research.google.com/assets/colab-badge.svg\" alt=\"Open In Colab\"/></a>"
      ]
    },
    {
      "cell_type": "code",
      "source": [
        "from __future__ import print_function\n",
        "import numpy as np\n",
        "import matplotlib.pyplot as plt\n",
        "X = np.array([[147, 150, 153, 158, 163, 165, 168, 170, 173, 175, 178, 180, 183]]).T\n",
        "y = np.array([ 49, 50, 51, 54, 58, 59, 60, 62, 63, 64, 66, 67, 68])"
      ],
      "metadata": {
        "id": "Ebjrk5QsGARl"
      },
      "execution_count": 8,
      "outputs": []
    },
    {
      "cell_type": "code",
      "source": [
        "one = np.ones((X.shape[0], 1))\n",
        "Xbar = np.concatenate((one, X), axis = 1) # each point is one row\n",
        "A = np.dot(Xbar.T, Xbar)\n",
        "b = np.dot(Xbar.T, y)\n",
        "w = np.dot(np.linalg.pinv(A), b)\n",
        "w_0, w_1 = w[0], w[1]"
      ],
      "metadata": {
        "id": "KmHK0torGSod"
      },
      "execution_count": 11,
      "outputs": []
    },
    {
      "cell_type": "code",
      "source": [
        "y1 = w_1*155 + w_0\n",
        "y2 = w_1*160 + w_0\n",
        "print('Input 155cm, true output 52kg, predicted output %.2fkg' %(y1) )\n",
        "print('Input 160cm, true output 56kg, predicted output %.2fkg' %(y2) )"
      ],
      "metadata": {
        "colab": {
          "base_uri": "https://localhost:8080/"
        },
        "id": "qE-bpmxgGf1U",
        "outputId": "370677fc-beae-4781-9f0e-ef7c654a10c5"
      },
      "execution_count": 13,
      "outputs": [
        {
          "output_type": "stream",
          "name": "stdout",
          "text": [
            "Input 155cm, true output 52kg, predicted output 52.94kg\n",
            "Input 160cm, true output 56kg, predicted output 55.74kg\n"
          ]
        }
      ]
    },
    {
      "cell_type": "code",
      "source": [
        "from sklearn import datasets, linear_model\n",
        "regr = linear_model.LinearRegression()\n",
        "regr.fit(X, y) # in scikit-learn, each sample is one row\n",
        "print(\"scikit-learn’s solution : w_1 = \", regr.coef_[0], \"w_0 = \", regr.intercept_)\n",
        "print(\"our solution : w_1 = \", w[1], \"w_0 = \", w[0])"
      ],
      "metadata": {
        "colab": {
          "base_uri": "https://localhost:8080/"
        },
        "id": "kaQFGWSUG57-",
        "outputId": "e7595b0d-43cd-40c8-fad3-37a0b64c4750"
      },
      "execution_count": 14,
      "outputs": [
        {
          "output_type": "stream",
          "name": "stdout",
          "text": [
            "scikit-learn’s solution : w_1 =  0.5592049619396674 w_0 =  -33.73541020580774\n",
            "our solution : w_1 =  0.5592049619425978 w_0 =  -33.735410206298184\n"
          ]
        }
      ]
    },
    {
      "cell_type": "code",
      "source": [
        "def grad(x):\n",
        "  return 2*x+ 5*np.cos(x)\n",
        "def cost(x):\n",
        "  return x**2 + 5*np.sin(x)\n",
        "def myGD1(x0, eta):\n",
        "  x = [x0]\n",
        "  for it in range(100):\n",
        "    x_new = x[-1] - eta*grad(x[-1])\n",
        "    if abs(grad(x_new)) < 1e-3: # just a small number\n",
        "      break\n",
        "    x.append(x_new)\n",
        "  return (x, it)"
      ],
      "metadata": {
        "id": "qauqhRmrHxjk"
      },
      "execution_count": 21,
      "outputs": []
    },
    {
      "cell_type": "code",
      "source": [
        "(x1, it1) = myGD1(-5, .1)\n",
        "(x2, it2) = myGD1(5, .1)\n",
        "print('Solution x1 = %f, cost = %f, after %d iterations'%(x1[-1], cost(x1[-1]), it1))\n",
        "print('Solution x2 = %f, cost = %f, after %d iterations'%(x2[-1], cost(x2[-1]), it2))"
      ],
      "metadata": {
        "colab": {
          "base_uri": "https://localhost:8080/"
        },
        "id": "QeKx4RWIIEcd",
        "outputId": "1824d54b-d9cc-4508-fe91-db39802860fb"
      },
      "execution_count": 22,
      "outputs": [
        {
          "output_type": "stream",
          "name": "stdout",
          "text": [
            "Solution x1 = -1.110667, cost = -3.246394, after 11 iterations\n",
            "Solution x2 = -1.110341, cost = -3.246394, after 29 iterations\n"
          ]
        }
      ]
    }
  ]
}